{
 "cells": [
  {
   "cell_type": "code",
   "execution_count": null,
   "metadata": {},
   "outputs": [],
   "source": [
    "from nerfstudio.engine.trainer import TrainerConfig  # noqa: E402"
   ]
  },
  {
   "cell_type": "code",
   "execution_count": null,
   "metadata": {},
   "outputs": [],
   "source": [
    "%ls '/home/antoine-laborde/Documents'"
   ]
  },
  {
   "cell_type": "code",
   "execution_count": 1,
   "metadata": {},
   "outputs": [
    {
     "ename": "FileExistsError",
     "evalue": "Config file /home/antoine-laborde/Documents/rebel-nerf/config.json does not exist",
     "output_type": "error",
     "traceback": [
      "\u001b[0;31m---------------------------------------------------------------------------\u001b[0m",
      "\u001b[0;31mFileExistsError\u001b[0m                           Traceback (most recent call last)",
      "Cell \u001b[0;32mIn[1], line 26\u001b[0m\n\u001b[1;32m     21\u001b[0m         credential \u001b[39m=\u001b[39m InteractiveBrowserCredential()\n\u001b[1;32m     23\u001b[0m     \u001b[39mreturn\u001b[39;00m MLClient\u001b[39m.\u001b[39mfrom_config(credential)\n\u001b[0;32m---> 26\u001b[0m ml_client \u001b[39m=\u001b[39m get_client(Path(\u001b[39m'\u001b[39;49m\u001b[39m/home/antoine-laborde/Documents/rebel-nerf/config.json\u001b[39;49m\u001b[39m'\u001b[39;49m))\n",
      "Cell \u001b[0;32mIn[1], line 10\u001b[0m, in \u001b[0;36mget_client\u001b[0;34m(config_file_path)\u001b[0m\n\u001b[1;32m      8\u001b[0m \u001b[39mdef\u001b[39;00m \u001b[39mget_client\u001b[39m(config_file_path: Path \u001b[39m=\u001b[39m Path(\u001b[39m\"\u001b[39m\u001b[39mconfig.json\u001b[39m\u001b[39m\"\u001b[39m)) \u001b[39m-\u001b[39m\u001b[39m>\u001b[39m MLClient:\n\u001b[1;32m      9\u001b[0m     \u001b[39mif\u001b[39;00m \u001b[39mnot\u001b[39;00m config_file_path\u001b[39m.\u001b[39mis_file():\n\u001b[0;32m---> 10\u001b[0m         \u001b[39mraise\u001b[39;00m \u001b[39mFileExistsError\u001b[39;00m(\n\u001b[1;32m     11\u001b[0m             \u001b[39m\"\u001b[39m\u001b[39mConfig file \u001b[39m\u001b[39m\"\u001b[39m \u001b[39m+\u001b[39m \u001b[39mstr\u001b[39m(config_file_path) \u001b[39m+\u001b[39m \u001b[39m\"\u001b[39m\u001b[39m does not exist\u001b[39m\u001b[39m\"\u001b[39m\n\u001b[1;32m     12\u001b[0m         )\n\u001b[1;32m     14\u001b[0m     \u001b[39mtry\u001b[39;00m:\n\u001b[1;32m     15\u001b[0m         credential \u001b[39m=\u001b[39m DefaultAzureCredential()\n",
      "\u001b[0;31mFileExistsError\u001b[0m: Config file /home/antoine-laborde/Documents/rebel-nerf/config.json does not exist"
     ]
    }
   ],
   "source": [
    "from pathlib import Path\n",
    "\n",
    "from azure.ai.ml import MLClient\n",
    "from azure.identity import DefaultAzureCredential, InteractiveBrowserCredential\n",
    "from azure.ai.ml.entities import Data\n",
    "\n",
    "\n",
    "def get_client(config_file_path: Path = Path(\"config.json\")) -> MLClient:\n",
    "    if not config_file_path.is_file():\n",
    "        raise FileExistsError(\n",
    "            \"Config file \" + str(config_file_path) + \" does not exist\"\n",
    "        )\n",
    "\n",
    "    try:\n",
    "        credential = DefaultAzureCredential()\n",
    "        # Check if given credential can get token successfully.\n",
    "        credential.get_token(\"https://management.azure.com/.default\")\n",
    "    except Exception:\n",
    "        # Fall back to InteractiveBrowserCredential in case DefaultAzureCredential\n",
    "        # not work. This will open a browser page.\n",
    "        credential = InteractiveBrowserCredential()\n",
    "\n",
    "    return MLClient.from_config(credential)\n",
    "\n",
    "\n",
    "ml_client = get_client(Path('/home/antoine-laborde/Documents/rebel-nerf/config.json'))\n"
   ]
  },
  {
   "cell_type": "code",
   "execution_count": null,
   "metadata": {},
   "outputs": [],
   "source": [
    "scene_name = 'mini-synthetic-building2'\n",
    "data_version = 3\n",
    "model_version = 12"
   ]
  },
  {
   "cell_type": "code",
   "execution_count": null,
   "metadata": {},
   "outputs": [],
   "source": [
    "def get_dataset_from_scene_name(\n",
    "    ml_client: MLClient, scene_name: str, version: str = \"1\"\n",
    ") -> Data:\n",
    "    dataset_name = scene_name + \"-images-to-nerf-dataset\"\n",
    "    return ml_client.data.get(name=dataset_name, version=version)\n",
    "\n",
    "dataset_path = get_dataset_from_scene_name(\n",
    "    ml_client=ml_client, scene_name=scene_name, version=data_version\n",
    ").path"
   ]
  },
  {
   "cell_type": "code",
   "execution_count": 3,
   "metadata": {},
   "outputs": [
    {
     "ename": "FileNotFoundError",
     "evalue": "[Errno 2] No such file or directory: '/home/antoine-laborde/Documents/rebel-nerf'",
     "output_type": "error",
     "traceback": [
      "\u001b[0;31m---------------------------------------------------------------------------\u001b[0m",
      "\u001b[0;31mFileNotFoundError\u001b[0m                         Traceback (most recent call last)",
      "Cell \u001b[0;32mIn[3], line 2\u001b[0m\n\u001b[1;32m      1\u001b[0m path \u001b[39m=\u001b[39m Path(\u001b[39m'\u001b[39m\u001b[39m/home/antoine-laborde/Documents/rebel-nerf\u001b[39m\u001b[39m'\u001b[39m)\n\u001b[0;32m----> 2\u001b[0m \u001b[39mlist\u001b[39;49m(path\u001b[39m.\u001b[39;49miterdir())\n",
      "File \u001b[0;32m/anaconda/envs/azureml_py310_sdkv2/lib/python3.10/pathlib.py:1017\u001b[0m, in \u001b[0;36mPath.iterdir\u001b[0;34m(self)\u001b[0m\n\u001b[1;32m   1013\u001b[0m \u001b[39mdef\u001b[39;00m \u001b[39miterdir\u001b[39m(\u001b[39mself\u001b[39m):\n\u001b[1;32m   1014\u001b[0m \u001b[39m    \u001b[39m\u001b[39m\"\"\"Iterate over the files in this directory.  Does not yield any\u001b[39;00m\n\u001b[1;32m   1015\u001b[0m \u001b[39m    result for the special paths '.' and '..'.\u001b[39;00m\n\u001b[1;32m   1016\u001b[0m \u001b[39m    \"\"\"\u001b[39;00m\n\u001b[0;32m-> 1017\u001b[0m     \u001b[39mfor\u001b[39;00m name \u001b[39min\u001b[39;00m \u001b[39mself\u001b[39;49m\u001b[39m.\u001b[39;49m_accessor\u001b[39m.\u001b[39;49mlistdir(\u001b[39mself\u001b[39;49m):\n\u001b[1;32m   1018\u001b[0m         \u001b[39mif\u001b[39;00m name \u001b[39min\u001b[39;00m {\u001b[39m'\u001b[39m\u001b[39m.\u001b[39m\u001b[39m'\u001b[39m, \u001b[39m'\u001b[39m\u001b[39m..\u001b[39m\u001b[39m'\u001b[39m}:\n\u001b[1;32m   1019\u001b[0m             \u001b[39m# Yielding a path object for these makes little sense\u001b[39;00m\n\u001b[1;32m   1020\u001b[0m             \u001b[39mcontinue\u001b[39;00m\n",
      "\u001b[0;31mFileNotFoundError\u001b[0m: [Errno 2] No such file or directory: '/home/antoine-laborde/Documents/rebel-nerf'"
     ]
    }
   ],
   "source": [
    "path = Path('/home/antoine-laborde/Documents/rebel-nerf')\n",
    "list(path.iterdir())"
   ]
  },
  {
   "cell_type": "code",
   "execution_count": null,
   "metadata": {},
   "outputs": [],
   "source": []
  }
 ],
 "metadata": {
  "kernelspec": {
   "display_name": "Python 3.10 - SDK v2",
   "language": "python",
   "name": "python310-sdkv2"
  },
  "language_info": {
   "codemirror_mode": {
    "name": "ipython",
    "version": 3
   },
   "file_extension": ".py",
   "mimetype": "text/x-python",
   "name": "python",
   "nbconvert_exporter": "python",
   "pygments_lexer": "ipython3",
   "version": "3.10.11"
  },
  "orig_nbformat": 4
 },
 "nbformat": 4,
 "nbformat_minor": 2
}
